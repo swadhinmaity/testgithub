{
 "cells": [
  {
   "cell_type": "markdown",
   "id": "a31bed8d",
   "metadata": {},
   "source": [
    "# SWADHIN MAITY"
   ]
  },
  {
   "cell_type": "markdown",
   "id": "2e8fd0df",
   "metadata": {},
   "source": [
    "Q.1"
   ]
  },
  {
   "cell_type": "code",
   "execution_count": 54,
   "id": "f5ddcf5a",
   "metadata": {},
   "outputs": [
    {
     "name": "stdout",
     "output_type": "stream",
     "text": [
      "Enter your name: Swadhin Maity\n",
      "Enter your age: 21\n",
      "Hello! Swadhin Maity, congratulation for turning 21\n"
     ]
    }
   ],
   "source": [
    "name = input(\"Enter your name: \")\n",
    "age = input(\"Enter your age: \")\n",
    "print(\"Hello! \" + name + \", congratulation for turning \" + age)"
   ]
  },
  {
   "cell_type": "markdown",
   "id": "e412841b",
   "metadata": {},
   "source": [
    "Q.2.a"
   ]
  },
  {
   "cell_type": "code",
   "execution_count": 4,
   "id": "4a0764eb",
   "metadata": {},
   "outputs": [
    {
     "name": "stdout",
     "output_type": "stream",
     "text": [
      "Enter the principle amount: 450\n",
      "Enter the rate of interest: 4.5\n",
      "Enter the time(years): 5\n",
      "The simple interest will be  101.25\n"
     ]
    }
   ],
   "source": [
    "p = float(input(\"Enter the principle amount: \"))\n",
    "r = float(input(\"Enter the rate of interest: \"))\n",
    "t = int(input(\"Enter the time(years): \"))\n",
    "si = p*r*t/100\n",
    "print(\"The simple interest will be \", round(si,2))"
   ]
  },
  {
   "cell_type": "markdown",
   "id": "0cacbc33",
   "metadata": {},
   "source": [
    "Q.2.b"
   ]
  },
  {
   "cell_type": "code",
   "execution_count": 1,
   "id": "fc93a1ff",
   "metadata": {},
   "outputs": [
    {
     "name": "stdout",
     "output_type": "stream",
     "text": [
      "Enter the principle amount: 500\n",
      "Enter the rate of interest: 4.5\n",
      "number of times compounded in one year: 2\n",
      "Enter the time(years): 5\n",
      "The future amount will be  624.6\n",
      "The compound interest will be  124.6\n"
     ]
    }
   ],
   "source": [
    "p = float(input(\"Enter the principle amount: \"))\n",
    "r = float(input(\"Enter the rate of interest: \"))\n",
    "n = int(input(\"number of times compounded in one year: \"))\n",
    "t = int(input(\"Enter the time(years): \"))\n",
    "a = p*((1+(r/(100*n)))**(n*t))\n",
    "ci = a-p\n",
    "print(\"The future amount will be \",round(a,2))\n",
    "print(\"The compound interest will be \", round(ci,2))"
   ]
  },
  {
   "cell_type": "markdown",
   "id": "a2a17d6b",
   "metadata": {},
   "source": [
    "Q.2.c"
   ]
  },
  {
   "cell_type": "code",
   "execution_count": 3,
   "id": "25410acb",
   "metadata": {},
   "outputs": [
    {
     "name": "stdout",
     "output_type": "stream",
     "text": [
      "Enter the temperature in celsius: 36\n",
      "The temperature in Fahrenheit will be  96.8\n"
     ]
    }
   ],
   "source": [
    "c = float(input(\"Enter the temperature in celsius: \"))\n",
    "f = (c*(9/5))+32\n",
    "print(\"The temperature in Fahrenheit will be \", f)"
   ]
  },
  {
   "cell_type": "markdown",
   "id": "02c178f1",
   "metadata": {},
   "source": [
    "Q.2.d"
   ]
  },
  {
   "cell_type": "code",
   "execution_count": 5,
   "id": "a1be8179",
   "metadata": {},
   "outputs": [
    {
     "name": "stdout",
     "output_type": "stream",
     "text": [
      "Enter the redius of the circle: 5\n",
      "The area of the circle will be  78.571\n"
     ]
    }
   ],
   "source": [
    "r = float(input(\"Enter the redius of the circle: \"))\n",
    "a = (22/7)*(r**2)\n",
    "print(\"The area of the circle will be \", round(a,3))"
   ]
  },
  {
   "cell_type": "markdown",
   "id": "adb306d9",
   "metadata": {},
   "source": [
    "Q.2.e"
   ]
  },
  {
   "cell_type": "code",
   "execution_count": 11,
   "id": "4f6d0b68",
   "metadata": {},
   "outputs": [
    {
     "name": "stdout",
     "output_type": "stream",
     "text": [
      "Enter the marks: 50\n",
      "The incrimented mark will be  53.0\n"
     ]
    }
   ],
   "source": [
    "x = float(input(\"Enter the marks: \"))\n",
    "y = x+3\n",
    "print(\"The incrimented mark will be \",y)"
   ]
  },
  {
   "cell_type": "markdown",
   "id": "88e8b06c",
   "metadata": {},
   "source": [
    "Q.3"
   ]
  },
  {
   "cell_type": "code",
   "execution_count": 15,
   "id": "8d72b5c5",
   "metadata": {},
   "outputs": [
    {
     "name": "stdout",
     "output_type": "stream",
     "text": [
      "Jack and jill went up to hill,\n",
      "To fetch a pail of water.\n",
      "Jack fell down and\n",
      "Broke his crown,\n",
      "And Jill came trumbling after. \n"
     ]
    }
   ],
   "source": [
    "j = '''Jack and jill went up to hill,\n",
    "To fetch a pail of water.\n",
    "Jack fell down and\n",
    "Broke his crown,\n",
    "And Jill came trumbling after.'''\n",
    "print(j)"
   ]
  },
  {
   "cell_type": "markdown",
   "id": "21af7d30",
   "metadata": {},
   "source": [
    "Q.4"
   ]
  },
  {
   "cell_type": "code",
   "execution_count": 4,
   "id": "eed8f2ef",
   "metadata": {},
   "outputs": [
    {
     "name": "stdout",
     "output_type": "stream",
     "text": [
      "Current time =  09:58:44\n"
     ]
    }
   ],
   "source": [
    "from datetime import datetime\n",
    "now = datetime.now()\n",
    "current_time = now.strftime(\"%H:%M:%S\")\n",
    "print(\"Current time = \", current_time)"
   ]
  },
  {
   "cell_type": "markdown",
   "id": "a270a39b",
   "metadata": {},
   "source": [
    "Q.5"
   ]
  },
  {
   "cell_type": "code",
   "execution_count": 25,
   "id": "efc33c70",
   "metadata": {},
   "outputs": [
    {
     "name": "stdout",
     "output_type": "stream",
     "text": [
      "The first colour is Red and the last colour is Black .\n"
     ]
    }
   ],
   "source": [
    "color_list = [\"Red\",\"Green\",\"White\",\"Black\"]\n",
    "first = color_list[0]\n",
    "last = color_list[-1]\n",
    "print(f'The first colour is {first} and the last colour is {last} .')"
   ]
  },
  {
   "cell_type": "markdown",
   "id": "57623411",
   "metadata": {},
   "source": [
    "Q.6"
   ]
  },
  {
   "cell_type": "code",
   "execution_count": 28,
   "id": "07a68c1e",
   "metadata": {},
   "outputs": [
    {
     "name": "stdout",
     "output_type": "stream",
     "text": [
      "Write an integer value(n): 5\n",
      "The new value will be in form of n+nn+nnn =  615\n"
     ]
    }
   ],
   "source": [
    "n = int(input(\"Write an integer value(n): \"))\n",
    "new = n+((n*10)+n)+((n*100)+(n*10)+n)\n",
    "print(\"The new value will be in form of n+nn+nnn = \", new)"
   ]
  },
  {
   "cell_type": "code",
   "execution_count": 3,
   "id": "46fa839b",
   "metadata": {},
   "outputs": [
    {
     "name": "stdout",
     "output_type": "stream",
     "text": [
      "Write an integer value(n): 5\n",
      "The output will be 5+55+555.\n"
     ]
    }
   ],
   "source": [
    "#or\n",
    "n = int(input(\"Write an integer value(n): \"))\n",
    "n1 = (n*10)+n\n",
    "n2 = (n*100)+(n*10)+n\n",
    "print(f'The output will be {n}+{n1}+{n2}.')"
   ]
  },
  {
   "cell_type": "markdown",
   "id": "c5d352a4",
   "metadata": {},
   "source": [
    "Q.7"
   ]
  },
  {
   "cell_type": "markdown",
   "id": "ad006210",
   "metadata": {},
   "source": [
    "syntax error: These are mistakes in the use of the Python language."
   ]
  },
  {
   "cell_type": "code",
   "execution_count": 49,
   "id": "d38f832c",
   "metadata": {},
   "outputs": [
    {
     "ename": "SyntaxError",
     "evalue": "Missing parentheses in call to 'print'. Did you mean print(...)? (1792166767.py, line 3)",
     "output_type": "error",
     "traceback": [
      "\u001b[1;36m  Cell \u001b[1;32mIn [49], line 3\u001b[1;36m\u001b[0m\n\u001b[1;33m    print\"fish\"\u001b[0m\n\u001b[1;37m    ^\u001b[0m\n\u001b[1;31mSyntaxError\u001b[0m\u001b[1;31m:\u001b[0m Missing parentheses in call to 'print'. Did you mean print(...)?\n"
     ]
    }
   ],
   "source": [
    "# i) leaving out symbol:\n",
    "fish = \"Ilish\"\n",
    "print\"fish\""
   ]
  },
  {
   "cell_type": "code",
   "execution_count": 6,
   "id": "173acd15",
   "metadata": {},
   "outputs": [
    {
     "name": "stdout",
     "output_type": "stream",
     "text": [
      "Ilish\n"
     ]
    }
   ],
   "source": [
    "#solution:\n",
    "fish = \"Ilish\"\n",
    "print(fish)"
   ]
  },
  {
   "cell_type": "code",
   "execution_count": 45,
   "id": "765c8ab2",
   "metadata": {},
   "outputs": [
    {
     "ename": "SyntaxError",
     "evalue": "Missing parentheses in call to 'print'. Did you mean print(...)? (2312249718.py, line 3)",
     "output_type": "error",
     "traceback": [
      "\u001b[1;36m  Cell \u001b[1;32mIn [45], line 3\u001b[1;36m\u001b[0m\n\u001b[1;33m    print\"fish\"\u001b[0m\n\u001b[1;37m    ^\u001b[0m\n\u001b[1;31mSyntaxError\u001b[0m\u001b[1;31m:\u001b[0m Missing parentheses in call to 'print'. Did you mean print(...)?\n"
     ]
    }
   ],
   "source": [
    "# ii) incomplete loop\n",
    "else:\n",
    "    print(\"Hellow!!\")"
   ]
  },
  {
   "cell_type": "code",
   "execution_count": 7,
   "id": "1eaca4c7",
   "metadata": {},
   "outputs": [
    {
     "name": "stdout",
     "output_type": "stream",
     "text": [
      "Hellow!!\n"
     ]
    }
   ],
   "source": [
    "#solution\n",
    "ram = False\n",
    "if ram:\n",
    "    print(\"Hi!!\")\n",
    "else :\n",
    "    print(\"Hellow!!\")"
   ]
  },
  {
   "cell_type": "code",
   "execution_count": 53,
   "id": "94c2a45c",
   "metadata": {},
   "outputs": [
    {
     "ename": "TypeError",
     "evalue": "unsupported operand type(s) for +: 'int' and 'str'",
     "output_type": "error",
     "traceback": [
      "\u001b[1;31m---------------------------------------------------------------------------\u001b[0m",
      "\u001b[1;31mTypeError\u001b[0m                                 Traceback (most recent call last)",
      "Cell \u001b[1;32mIn [53], line 4\u001b[0m\n\u001b[0;32m      1\u001b[0m weight \u001b[38;5;241m=\u001b[39m \u001b[38;5;241m2\u001b[39m\n\u001b[0;32m      2\u001b[0m animal \u001b[38;5;241m=\u001b[39m \u001b[38;5;124m\"\u001b[39m\u001b[38;5;124mrabbit\u001b[39m\u001b[38;5;124m\"\u001b[39m\n\u001b[1;32m----> 4\u001b[0m \u001b[38;5;28mprint\u001b[39m(\u001b[43mweight\u001b[49m\u001b[38;5;241;43m+\u001b[39;49m\u001b[38;5;124;43m\"\u001b[39;49m\u001b[38;5;124;43m kg is the weight of the \u001b[39;49m\u001b[38;5;124;43m\"\u001b[39;49m\u001b[38;5;241m+\u001b[39manimal\u001b[38;5;241m+\u001b[39m\u001b[38;5;124m\"\u001b[39m\u001b[38;5;124m.\u001b[39m\u001b[38;5;124m\"\u001b[39m)\n\u001b[0;32m      5\u001b[0m \u001b[38;5;66;03m#solution\u001b[39;00m\n\u001b[0;32m      6\u001b[0m weight \u001b[38;5;241m=\u001b[39m \u001b[38;5;241m2\u001b[39m\n",
      "\u001b[1;31mTypeError\u001b[0m: unsupported operand type(s) for +: 'int' and 'str'"
     ]
    }
   ],
   "source": [
    "# iii) TypeError\n",
    "weight = 2\n",
    "animal = \"rabbit\"\n",
    "\n",
    "print(weight+\" kg is the weight of the \"+animal+\".\")"
   ]
  },
  {
   "cell_type": "code",
   "execution_count": 8,
   "id": "bf56cebd",
   "metadata": {},
   "outputs": [
    {
     "name": "stdout",
     "output_type": "stream",
     "text": [
      "2 kg is the weight of the rabbit.\n"
     ]
    }
   ],
   "source": [
    "#solution\n",
    "weight = 2\n",
    "animal = \"rabbit\"\n",
    "print(str(weight)+\" kg is the weight of the \"+animal+\".\")"
   ]
  },
  {
   "cell_type": "markdown",
   "id": "4413219d",
   "metadata": {},
   "source": [
    "Q.8"
   ]
  },
  {
   "cell_type": "code",
   "execution_count": 29,
   "id": "2a7f9aab",
   "metadata": {},
   "outputs": [
    {
     "name": "stdout",
     "output_type": "stream",
     "text": [
      "animals,\n",
      "badger,\n",
      "honey bee,\n",
      "honey badger.\n"
     ]
    }
   ],
   "source": [
    "string = '''Animals,\n",
    "Badger,\n",
    "Honey Bee,\n",
    "Honey Badger.'''\n",
    "print(string.lower())"
   ]
  },
  {
   "cell_type": "markdown",
   "id": "01450962",
   "metadata": {},
   "source": [
    "Q.9"
   ]
  },
  {
   "cell_type": "code",
   "execution_count": 38,
   "id": "241b9253",
   "metadata": {},
   "outputs": [
    {
     "name": "stdout",
     "output_type": "stream",
     "text": [
      "My Birth Day is August 15.\n"
     ]
    }
   ],
   "source": [
    "string_object = \"My Birth Date is August \"\n",
    "integer_object = 15\n",
    "print(f'{string_object}{integer_object}.')"
   ]
  },
  {
   "cell_type": "markdown",
   "id": "ca9f5845",
   "metadata": {},
   "source": [
    "Q.10"
   ]
  },
  {
   "cell_type": "code",
   "execution_count": 5,
   "id": "322a84f2",
   "metadata": {},
   "outputs": [
    {
     "name": "stdout",
     "output_type": "stream",
     "text": [
      "0.2 kg is the weight of the newt.\n",
      "0.2 kg is the weight of the newt.\n"
     ]
    }
   ],
   "source": [
    "weight = 0.2\n",
    "animal = \"newt\"\n",
    "#using string concatenation\n",
    "print(str(weight)+\" kg is the weight of the \"+animal+\".\")\n",
    "\n",
    "#using placeholders and f-string\n",
    "print(f'{weight} kg is the weight of the {animal}.')"
   ]
  }
 ],
 "metadata": {
  "kernelspec": {
   "display_name": "Python 3 (ipykernel)",
   "language": "python",
   "name": "python3"
  },
  "language_info": {
   "codemirror_mode": {
    "name": "ipython",
    "version": 3
   },
   "file_extension": ".py",
   "mimetype": "text/x-python",
   "name": "python",
   "nbconvert_exporter": "python",
   "pygments_lexer": "ipython3",
   "version": "3.10.7"
  }
 },
 "nbformat": 4,
 "nbformat_minor": 5
}
